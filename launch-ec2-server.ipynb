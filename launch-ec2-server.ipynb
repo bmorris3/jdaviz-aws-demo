{
 "cells": [
  {
   "cell_type": "markdown",
   "id": "fed65ce7-f50f-442b-8927-dafcb6f1a5e4",
   "metadata": {},
   "source": [
    "# Manage the EC2 instance, launch the server, check that it's working, close the server"
   ]
  },
  {
   "cell_type": "code",
   "execution_count": null,
   "id": "442dcfbc-037f-4fe5-807c-3c6b6851d9f9",
   "metadata": {},
   "outputs": [],
   "source": [
    "import boto3\n",
    "import urllib.request\n",
    "from urllib.error import URLError\n",
    "\n",
    "ec2_client = boto3.client('ec2')\n",
    "ssm_client = boto3.client('ssm')"
   ]
  },
  {
   "cell_type": "markdown",
   "id": "2c534c7f-d815-4691-a0bd-73b10afcaba6",
   "metadata": {},
   "source": [
    "Choose the managed EC2 instance to start:"
   ]
  },
  {
   "cell_type": "code",
   "execution_count": null,
   "id": "7e11fca3-a235-40fb-a419-928ab296a2ba",
   "metadata": {},
   "outputs": [],
   "source": [
    "jdaviz_solara_instance = [\n",
    "    # this will be different for your implementation\n",
    "    'i-0df613a84d8437528'\n",
    "]"
   ]
  },
  {
   "cell_type": "markdown",
   "id": "30f6460a-102b-4d03-8d17-c92b19d58fa3",
   "metadata": {},
   "source": [
    "Start the instance if it isn't already started:"
   ]
  },
  {
   "cell_type": "code",
   "execution_count": null,
   "id": "f41bcebf-7f3b-4932-be06-f93566d1180c",
   "metadata": {},
   "outputs": [],
   "source": [
    "start_instance_response = ec2_client.start_instances(InstanceIds=jdaviz_solara_instance)"
   ]
  },
  {
   "cell_type": "markdown",
   "id": "dc38da2d-4f99-45f6-982a-32be668e3df6",
   "metadata": {},
   "source": [
    "Get the public DNS name for the active instance:"
   ]
  },
  {
   "cell_type": "code",
   "execution_count": null,
   "id": "53282366-5f3c-48a8-8deb-dc5d69095d7a",
   "metadata": {},
   "outputs": [],
   "source": [
    "for res in ec2_client.describe_instances()['Reservations']:\n",
    "    for instance in res.get('Instances'):\n",
    "        if instance.get('InstanceId') in jdaviz_solara_instance:\n",
    "            public_dns_name = instance['PublicDnsName']\n",
    "            break\n",
    "\n",
    "# `public_url` would also need to specify the port with `:8765` at the end\n",
    "# of the URL if the nginx configuration isn't started.\n",
    "public_url = f'http://{public_dns_name}'  "
   ]
  },
  {
   "cell_type": "markdown",
   "id": "e971694f-a680-4e97-a907-5f01ece7c950",
   "metadata": {},
   "source": [
    "Check if the solara server is running:"
   ]
  },
  {
   "cell_type": "code",
   "execution_count": null,
   "id": "c8ca4129-1fb2-47e8-9267-4e5b95f01878",
   "metadata": {},
   "outputs": [],
   "source": [
    "def check_server_running():\n",
    "    try: \n",
    "        html_response = urllib.request.urlopen(public_url, timeout=2)\n",
    "        assert html_response.status == 200\n",
    "        print(f'Successfully found page served by solara')\n",
    "    except URLError as e:\n",
    "        print(f\"No solara server running. ({e})\")\n",
    "\n",
    "check_server_running()"
   ]
  },
  {
   "cell_type": "markdown",
   "id": "b39940cf-f0a6-4eac-9a97-55d244947629",
   "metadata": {},
   "source": [
    "If the solara server isn't running, send a command to launch the server:"
   ]
  },
  {
   "cell_type": "code",
   "execution_count": null,
   "id": "088e3a68-cc5c-4a89-8a93-ee9b8dfdd843",
   "metadata": {},
   "outputs": [],
   "source": [
    "cmd_response = ssm_client.send_command(\n",
    "            InstanceIds=jdaviz_solara_instance,\n",
    "            DocumentName=\"AWS-RunShellScript\",\n",
    "            Parameters={'commands': ['bash /home/ec2-user/launch-server.sh >> log-launch-server.txt 2>&1']})"
   ]
  },
  {
   "cell_type": "markdown",
   "id": "be00b0e0-e44d-46d1-bf15-f672525f627a",
   "metadata": {},
   "source": [
    "Check on the status of the command sent in the cell above:"
   ]
  },
  {
   "cell_type": "code",
   "execution_count": null,
   "id": "6ddf7d39-c63b-491c-b3a8-be68cbc6d4ff",
   "metadata": {},
   "outputs": [],
   "source": [
    "cmd_invocation = ssm_client.get_command_invocation(CommandId=cmd_response['Command']['CommandId'], InstanceId=jdaviz_solara_instance[0])\n",
    "\n",
    "print(f\"Status: {cmd_invocation['Status']}, stdout: '{cmd_invocation['StandardOutputContent']}'\")"
   ]
  },
  {
   "cell_type": "markdown",
   "id": "7e225bb3-4708-4621-8057-81b7ed61ae74",
   "metadata": {},
   "source": [
    "Once the server is running, view it in your browser at this URL:"
   ]
  },
  {
   "cell_type": "code",
   "execution_count": null,
   "id": "de4f2436-44ee-4bd1-bec4-c556574da6eb",
   "metadata": {},
   "outputs": [],
   "source": [
    "public_url"
   ]
  },
  {
   "cell_type": "markdown",
   "id": "d1ce956b-a097-44e5-8386-a60b05d4ad4c",
   "metadata": {},
   "source": [
    "You can see the history of the commands you've sent here:"
   ]
  },
  {
   "cell_type": "code",
   "execution_count": null,
   "id": "19e3ccb8-77a5-4611-8ab7-0b7bc4947b09",
   "metadata": {},
   "outputs": [],
   "source": [
    "commands = ssm_client.list_commands(CommandId=response['Command']['CommandId'], InstanceId=jdaviz_solara_instance[0])\n",
    "\n",
    "commands"
   ]
  },
  {
   "cell_type": "markdown",
   "id": "cb972444-8339-4a10-b632-072d4f128e2a",
   "metadata": {},
   "source": [
    "When you're done, you can stop the instance with:"
   ]
  },
  {
   "cell_type": "code",
   "execution_count": null,
   "id": "a00c49f5-4d24-4e4f-bd9e-b7c0ec060b2e",
   "metadata": {},
   "outputs": [],
   "source": [
    "stop_instance_response = ec2_client.stop_instances(InstanceIds=jdaviz_solara_instance)"
   ]
  },
  {
   "cell_type": "markdown",
   "id": "aa7bb3b8-695f-4b64-8233-f76793b9eded",
   "metadata": {},
   "source": [
    "Confirm that the server is no longer running:"
   ]
  },
  {
   "cell_type": "code",
   "execution_count": null,
   "id": "94ea6f96-088e-4b89-8fea-a0cc3977e695",
   "metadata": {},
   "outputs": [],
   "source": [
    "check_server_running()"
   ]
  },
  {
   "cell_type": "code",
   "execution_count": null,
   "id": "37ea7c27-f765-4127-9454-4299b30a4d7b",
   "metadata": {},
   "outputs": [],
   "source": []
  }
 ],
 "metadata": {
  "kernelspec": {
   "display_name": "Python 3 (ipykernel)",
   "language": "python",
   "name": "python3"
  },
  "language_info": {
   "codemirror_mode": {
    "name": "ipython",
    "version": 3
   },
   "file_extension": ".py",
   "mimetype": "text/x-python",
   "name": "python",
   "nbconvert_exporter": "python",
   "pygments_lexer": "ipython3",
   "version": "3.11.10"
  }
 },
 "nbformat": 4,
 "nbformat_minor": 5
}
